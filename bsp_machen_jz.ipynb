{
 "cells": [
  {
   "cell_type": "markdown",
   "metadata": {},
   "source": [
    "# ET2 Lernen \n",
    "\n",
    "## Zufälliges Beispiel \n",
    "\n",
    "Hier bekommst du ein Zufallsbeispiel aus dem Fragen Pool. "
   ]
  },
  {
   "cell_type": "code",
   "execution_count": null,
   "metadata": {},
   "outputs": [],
   "source": [
    "import PyPDF2\n",
    "import sys\n",
    "import os\n",
    "from PyPDF2 import PdfFileReader \n",
    "import numpy as np\n",
    "\n",
    "def num2pdf(file):\n",
    "    pdf = PdfFileReader(open(file,'rb'))\n",
    "    return pdf.getNumPages()\n",
    "\n",
    "\n",
    "\n",
    "os.chdir('b')\n",
    "files =os.listdir()\n",
    "a = num2pdf(files[4])\n",
    "a\n",
    "\n"
   ]
  },
  {
   "cell_type": "code",
   "execution_count": null,
   "metadata": {},
   "outputs": [],
   "source": [
    "r = np.random.random()\n",
    "doc =files[round(len(files)*r)]\n",
    "pages = num2pdf(doc)\n",
    "j = round(np.random.random()*pages)\n",
    "print('Document: '+doc +'\\nBeispiel: '+ str(j))"
   ]
  },
  {
   "cell_type": "markdown",
   "metadata": {},
   "source": [
    "# Prüfung erstellen "
   ]
  },
  {
   "cell_type": "markdown",
   "metadata": {},
   "source": [
    "Einfach den nächsten Block ausführen und die Datei \"Testprüfung.pdf\" downloaden und losrechnen. Viel Spaß beim lernen. "
   ]
  },
  {
   "cell_type": "code",
   "execution_count": null,
   "metadata": {},
   "outputs": [],
   "source": [
    "#for j in range(10):\n",
    "kap = []\n",
    "bsp = []\n",
    "for i in range(10):\n",
    "    kap.append(round(len(files)*np.random.random())-1)\n",
    "    #print(files[kap[i]])\n",
    "    #print(kap[i])\n",
    "    #print(i)\n",
    "    bsp.append(round(num2pdf(files[kap[i]])*np.random.random()-1))\n",
    "\n",
    "kap\n",
    "bsp\n",
    "#print(\"hey\")\n",
    "#print(num2pdf(files[kap[i]]))\n",
    "#print(bsp[i])\n",
    "i=0  \n",
    "pdfWriter = PyPDF2.PdfFileWriter()\n",
    "for i in range(10):\n",
    "    pdf1Reader = PyPDF2.PdfFileReader(open(files[kap[i]],'rb'))\n",
    "    pageObj = pdf1Reader.getPage(bsp[i])\n",
    "    pdfWriter.addPage(pageObj)\n",
    "    #print(i)\n",
    "pdfOutputFile = open('../testprüfung.pdf', 'wb')\n",
    "pdfWriter.write(pdfOutputFile)\n",
    "pdfOutputFile.close()\n",
    "print(\"Die Datei kann runtergeladen werden\")\n",
    "\n"
   ]
  },
  {
   "cell_type": "code",
   "execution_count": null,
   "metadata": {},
   "outputs": [],
   "source": [
    "from IPython.display import IFrame\n",
    "IFrame(\"testprüfung.pdf\", width=1000, height=600)"
   ]
  },
  {
   "cell_type": "markdown",
   "metadata": {},
   "source": [
    "# ET2 Prüfungssimulator \n",
    "\n",
    "## Modies (**Neue Version** ab hier )\n",
    "\n",
    "Ändere die Variable `modus` in `Prüfung` um eine zufällige Prüfung zu erstellen. Dabei wird pro Kapitel 1 zufälliges Beispiel ausgewählt. \n",
    "\n",
    "Ändere die Variable `modus` in `Prüfung + Lösung` um eine zufällige Prüfung mit 10 Beispielen + Musterlösungen zu erstellen. \n",
    "\n",
    "Ändere die Variable `modus` in `Zufallsbeispiel` um ein zufälliges Beispiel anzuzeigen. \n"
   ]
  },
  {
   "cell_type": "code",
   "execution_count": null,
   "metadata": {},
   "outputs": [],
   "source": [
    "modus = \"Prüfung\"\n",
    "#modus = \"Prüfung + Lösung\"\n",
    "modus = \"Zufallsbeispiel\"\n"
   ]
  },
  {
   "cell_type": "code",
   "execution_count": null,
   "metadata": {},
   "outputs": [],
   "source": [
    "import PyPDF2\n",
    "import sys\n",
    "import os\n",
    "from PyPDF2 import PdfFileReader \n",
    "from IPython.display import IFrame\n",
    "import numpy as np\n",
    "\n",
    "home = os.getcwd()\n",
    "\n",
    "def num2pdf(file):\n",
    "    pdf = PdfFileReader(open(file,'rb'))\n",
    "    return pdf.getNumPages()\n",
    "\n",
    "def zufallsbeispiel():\n",
    "    try:\n",
    "        home = os.getcwd()\n",
    "        if len(home.split(\"/\"))==3:\n",
    "            os.chdir('a')\n",
    "\n",
    "        files =os.listdir()\n",
    "        a = num2pdf(files[4])\n",
    "        r = np.random.random()\n",
    "        doc =files[round(len(files)*r)]\n",
    "        pages = num2pdf(doc)\n",
    "        j = round(np.random.random()*pages)\n",
    "        print('Document: '+doc +'\\nBeispiel: '+ str(j))\n",
    "    except: \n",
    "        print(\"run again\")\n",
    "    print()\n",
    "def po():\n",
    "    home = os.getcwd()\n",
    "    if len(home.split(\"/\"))==3:\n",
    "            os.chdir('a')\n",
    "    files =os.listdir()\n",
    "    #for j in range(10):\n",
    "    kap = []\n",
    "    bsp = []\n",
    "    for i in range(10):\n",
    "        kap.append(round(len(files)*np.random.random())-1)\n",
    "        #print(files[kap[i]])\n",
    "        #print(kap[i])\n",
    "        #print(i)\n",
    "        bsp.append(round(num2pdf(files[kap[i]])*np.random.random()-1))\n",
    "\n",
    "    kap\n",
    "    bsp\n",
    "    #print(\"hey\")\n",
    "    #print(num2pdf(files[kap[i]]))\n",
    "    #print(bsp[i])\n",
    "    i=0  \n",
    "    pdfWriter = PyPDF2.PdfFileWriter()\n",
    "    for i in range(10):\n",
    "        pdf1Reader = PyPDF2.PdfFileReader(open(files[kap[i]],'rb'))\n",
    "        pageObj = pdf1Reader.getPage(bsp[i])\n",
    "        pdfWriter.addPage(pageObj)\n",
    "        #print(i)\n",
    "    pdfOutputFile = open('../testprüfung.pdf', 'wb')\n",
    "    pdfWriter.write(pdfOutputFile)\n",
    "    pdfOutputFile.close()\n",
    "    print(\"Die Datei kann runtergeladen werden\")\n",
    "def p():\n",
    "    if len(home.split(\"/\"))==3:\n",
    "                os.chdir('b')\n",
    "    try:\n",
    "        if home.split(\"/\")[3] is not \"b\":\n",
    "            os.chdir(\"../b/\")\n",
    "    except:\n",
    "        print(\"ups\")\n",
    "    files = [f for f in os.listdir('.') if os.path.isfile(f) and f.endswith('.pdf')]\n",
    "    kap = []\n",
    "    bsp = []\n",
    "    for i in range(len(files)):\n",
    "        kap.append(i)\n",
    "        print(files[kap[i]])\n",
    "        print(kap[i])\n",
    "        print(i)\n",
    "        bsp.append(round(num2pdf(files[kap[i]])*np.random.random()-1))\n",
    "\n",
    "    kap\n",
    "    bsp\n",
    "    #print(\"hey\")\n",
    "    #print(num2pdf(files[kap[i]]))\n",
    "    #print(bsp[i])\n",
    "    i=0  \n",
    "    pdfWriter = PyPDF2.PdfFileWriter()\n",
    "    for i in range(len(files)):\n",
    "        pdf1Reader = PyPDF2.PdfFileReader(open(files[kap[i]],'rb'))\n",
    "        pageObj = pdf1Reader.getPage(bsp[i])\n",
    "        pdfWriter.addPage(pageObj)\n",
    "        #print(i)\n",
    "    pdfOutputFile = open('../testprüfung.pdf', 'wb')\n",
    "    pdfWriter.write(pdfOutputFile)\n",
    "    pdfOutputFile.close()\n",
    "    print(\"Die Datei kann runtergeladen werden\")    \n",
    "    \n",
    "if modus is \"Zufallsbeispiel\":\n",
    "    zufallsbeispiel()\n",
    "if \"Prüfung + Lösung\" == modus:\n",
    "    po()\n",
    "if modus == \"Prüfung\":\n",
    "    p()\n",
    "\n"
   ]
  },
  {
   "cell_type": "code",
   "execution_count": null,
   "metadata": {},
   "outputs": [],
   "source": [
    " IFrame(\"testprüfung.pdf\", width=1000, height=600)"
   ]
  },
  {
   "cell_type": "code",
   "execution_count": null,
   "metadata": {},
   "outputs": [],
   "source": []
  },
  {
   "cell_type": "code",
   "execution_count": null,
   "metadata": {},
   "outputs": [],
   "source": []
  }
 ],
 "metadata": {
  "kernelspec": {
   "display_name": "Python 3",
   "language": "python",
   "name": "python3"
  },
  "language_info": {
   "codemirror_mode": {
    "name": "ipython",
    "version": 3
   },
   "file_extension": ".py",
   "mimetype": "text/x-python",
   "name": "python",
   "nbconvert_exporter": "python",
   "pygments_lexer": "ipython3",
   "version": "3.7.3"
  }
 },
 "nbformat": 4,
 "nbformat_minor": 2
}
