{
 "cells": [
  {
   "cell_type": "markdown",
   "metadata": {},
   "source": [
    "# ET2 Lernen \n",
    "\n",
    "## Zufälliges Beispiel \n",
    "\n",
    "Hier bekommst du ein Zufallsbeispiel aus dem Fragen Pool. "
   ]
  },
  {
   "cell_type": "code",
   "execution_count": 1,
   "metadata": {},
   "outputs": [],
   "source": [
    "import PyPDF2\n",
    "import sys\n",
    "import os\n",
    "from PyPDF2 import PdfFileReader \n",
    "import numpy as np\n",
    "\n",
    "def num2pdf(file):\n",
    "    pdf = PdfFileReader(open(file,'rb'))\n",
    "    return pdf.getNumPages()\n",
    "\n",
    "\n",
    "\n",
    "os.chdir('a')\n",
    "files =os.listdir()\n",
    "a = num2pdf(files[4])\n",
    "\n",
    "\n"
   ]
  },
  {
   "cell_type": "code",
   "execution_count": 3,
   "metadata": {},
   "outputs": [
    {
     "name": "stdout",
     "output_type": "stream",
     "text": [
      "Document: 15_Magnetische Kräfte_compressed.pdf\n",
      "Beispiel: 1\n"
     ]
    }
   ],
   "source": [
    "r = np.random.random()\n",
    "doc =files[round(len(files)*r)]\n",
    "pages = num2pdf(doc)\n",
    "j = round(np.random.random()*pages)\n",
    "print('Document: '+doc +'\\nBeispiel: '+ str(j))"
   ]
  },
  {
   "cell_type": "markdown",
   "metadata": {},
   "source": [
    "# Prüfung erstellen "
   ]
  },
  {
   "cell_type": "markdown",
   "metadata": {},
   "source": [
    "Einfach den nächsten Block ausführen und die Datei \"Testprüfung.pdf\" downloaden und losrechnen. Viel Spaß beim lernen. "
   ]
  },
  {
   "cell_type": "code",
   "execution_count": 75,
   "metadata": {},
   "outputs": [
    {
     "name": "stdout",
     "output_type": "stream",
     "text": [
      "Die Datei kann runtergeladen werden\n"
     ]
    }
   ],
   "source": [
    "#for j in range(10):\n",
    "kap = []\n",
    "bsp = []\n",
    "for i in range(10):\n",
    "    kap.append(round(len(files)*np.random.random())-1)\n",
    "    #print(files[kap[i]])\n",
    "    #print(kap[i])\n",
    "    #print(i)\n",
    "    bsp.append(round(num2pdf(files[kap[i]])*np.random.random()-1))\n",
    "\n",
    "kap\n",
    "bsp\n",
    "#print(\"hey\")\n",
    "#print(num2pdf(files[kap[i]]))\n",
    "#print(bsp[i])\n",
    "i=0  \n",
    "pdfWriter = PyPDF2.PdfFileWriter()\n",
    "for i in range(10):\n",
    "    pdf1Reader = PyPDF2.PdfFileReader(open(files[kap[i]],'rb'))\n",
    "    pageObj = pdf1Reader.getPage(bsp[i])\n",
    "    pdfWriter.addPage(pageObj)\n",
    "    pdf1File.close()\n",
    "    #print(i)\n",
    "pdfOutputFile = open('../out/testprüfung'+str(j)+'.pdf', 'wb')\n",
    "pdfWriter.write(pdfOutputFile)\n",
    "pdfOutputFile.close()\n",
    "print(\"Die Datei kann runtergeladen werden\")"
   ]
  }
 ],
 "metadata": {
  "kernelspec": {
   "display_name": "Python 3",
   "language": "python",
   "name": "python3"
  },
  "language_info": {
   "codemirror_mode": {
    "name": "ipython",
    "version": 3
   },
   "file_extension": ".py",
   "mimetype": "text/x-python",
   "name": "python",
   "nbconvert_exporter": "python",
   "pygments_lexer": "ipython3",
   "version": "3.6.7"
  }
 },
 "nbformat": 4,
 "nbformat_minor": 2
}
