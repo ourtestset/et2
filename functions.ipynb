{
 "cells": [
  {
   "cell_type": "code",
   "execution_count": 1,
   "metadata": {},
   "outputs": [],
   "source": [
    "try:\n",
    "    import PyPDF2\n",
    "except ModuleNotFoundError:\n",
    "    import sys \n",
    "    sys.path.append(\"/home/user/.local/share/virtualenvs/et2-yco-azjD/lib/python3.6/site-packages\")\n"
   ]
  },
  {
   "cell_type": "code",
   "execution_count": 2,
   "metadata": {},
   "outputs": [
    {
     "name": "stdout",
     "output_type": "stream",
     "text": [
      "/home/user/Documents/projects/et2\n",
      "['Pipfile', '.git', 'spielen.ipynb', 'a', 'Pipfile.lock', 'binder.md', '.ipynb_checkpoints', 'b', 'testprüfung.pdf', 'requirements.txt', 'bsp_machen_jz.ipynb', 'functions.ipynb']\n"
     ]
    }
   ],
   "source": [
    "import PyPDF2\n",
    "import sys\n",
    "import os\n",
    "from PyPDF2 import PdfFileReader, PdfFileMerger\n",
    "from IPython.display import IFrame\n",
    "import numpy as np\n",
    "\n",
    "home = os.getcwd()\n",
    "print(home)\n",
    "print(os.listdir())\n",
    "\n",
    "def num2pdf(file):\n",
    "    pdf = PdfFileReader(open(file,'rb'))\n",
    "    return pdf.getNumPages()\n"
   ]
  },
  {
   "cell_type": "code",
   "execution_count": 3,
   "metadata": {},
   "outputs": [],
   "source": [
    "#print on page the numbers \n",
    "from io import BytesIO\n",
    "\n",
    "\n",
    "from reportlab.pdfgen import canvas\n",
    "from reportlab.lib.pagesizes import A4\n",
    "from reportlab.lib.units import inch, cm\n",
    "\n",
    "\n",
    "def pdfnumbering(pageobject,kap,num,k,kl):\n",
    "    temp = BytesIO()\n",
    "    c = canvas.Canvas(temp,pagesize=A4)\n",
    "    c.setFont('Helvetica-Bold', 24)\n",
    "    c.drawString(0*cm,28*cm,str(kap[k:kl])+\".\"+str(num+1))\n",
    "    #print(c)\n",
    "    c.save()\n",
    "    temp.seek(0)\n",
    "    #print(pageobject)\n",
    "    \n",
    "    #print(\"\\n\\n ...\")\n",
    "    #pageobject = PyPDF2.PdfFileReader(temp)\n",
    "    #new = PdfFileReader(temp)\n",
    "    #pageobject= pageobject.mergePage(new.getPage(0))\n",
    "    #print(new)\n",
    "    return PdfFileReader(temp)"
   ]
  },
  {
   "cell_type": "code",
   "execution_count": 4,
   "metadata": {},
   "outputs": [],
   "source": [
    "def po():\n",
    "    home = os.getcwd()\n",
    "    print(home)\n",
    "    print(len(home.split(\"/\")))\n",
    "    if len(home.split(\"/\"))==3:\n",
    "            os.chdir('a')\n",
    "    elif \"a/\" not in home:\n",
    "        os.chdir('a')\n",
    "    files =os.listdir()\n",
    "    #for j in range(10):\n",
    "    kap = []\n",
    "    bsp = []\n",
    "    for i in range(10):\n",
    "        kap.append(round(len(files)*np.random.random())-1)\n",
    "        #print(files[kap[i]])\n",
    "        #print(kap[i])\n",
    "        #print(i)\n",
    "        bsp.append(round(num2pdf(files[kap[i]])*np.random.random()-1))\n",
    "\n",
    "    kap\n",
    "    bsp\n",
    "    #print(\"hey\")\n",
    "    #print(num2pdf(files[kap[i]]))\n",
    "    #print(bsp[i])\n",
    "    i=0  \n",
    "    pdfWriter = PyPDF2.PdfFileWriter()\n",
    "    for i in range(10):\n",
    "        pdf1Reader = PyPDF2.PdfFileReader(open(files[kap[i]],'rb'))\n",
    "        pageObj = pdf1Reader.getPage(bsp[i])\n",
    "    \n",
    "        numObj = pdfnumbering(pageObj,files[kap[i]],bsp[i],0,2)\n",
    "        page =pdf1Reader.getPage(bsp[i])\n",
    "        page.mergePage(numObj.getPage(0))\n",
    "        #print(type(pageObj.mergePage(numObj.getPage(0))))\n",
    "        pdfWriter.addPage(page)\n",
    "        #print(i)\n",
    "    pdfOutputFile = open('../testprüfung.pdf', 'wb')\n",
    "    pdfWriter.write(pdfOutputFile)\n",
    "    pdfOutputFile.close()\n",
    "    print(\"Die Datei kann runtergeladen werden\")"
   ]
  },
  {
   "cell_type": "code",
   "execution_count": 5,
   "metadata": {},
   "outputs": [],
   "source": [
    "def p():\n",
    "    print(os.listdir())\n",
    "    if len(home.split(\"/\"))==3:\n",
    "                os.chdir('b')\n",
    "    elif \"b/\" not in home:\n",
    "        os.chdir('b')\n",
    "        \n",
    "    try:\n",
    "        if home.split(\"/\")[3] is not \"b\":\n",
    "            os.chdir(\"../b/\")\n",
    "    except Exception as e:\n",
    "        print(\"ups\")\n",
    "        print(e)\n",
    "        return\n",
    "    files = [f for f in os.listdir('.') if os.path.isfile(f) and f.endswith('.pdf')]\n",
    "    kap = []\n",
    "    bsp = []\n",
    "    for i in range(len(files)):\n",
    "        kap.append(i)\n",
    "        print(files[kap[i]])\n",
    "        print(kap[i])\n",
    "        print(i)\n",
    "        bsp.append(round(num2pdf(files[kap[i]])*np.random.random()-1))\n",
    "\n",
    "    kap\n",
    "    bsp\n",
    "    #print(\"hey\")\n",
    "    #print(num2pdf(files[kap[i]]))\n",
    "    #print(bsp[i])\n",
    "    i=0  \n",
    "    pdfWriter = PyPDF2.PdfFileWriter()\n",
    "    for i in range(len(files)):\n",
    "        pdf1Reader = PyPDF2.PdfFileReader(open(files[kap[i]],'rb'))\n",
    "        pageObj = pdf1Reader.getPage(bsp[i])\n",
    "            \n",
    "        numObj = pdfnumbering(pageObj,files[kap[i]],bsp[i],1,3)\n",
    "        page =pdf1Reader.getPage(bsp[i])\n",
    "        page.mergePage(numObj.getPage(0))\n",
    "        #print(type(pageObj.mergePage(numObj.getPage(0))))\n",
    "        pdfWriter.addPage(page)\n",
    "        \n",
    "        #print(i)\n",
    "    pdfOutputFile = open('../testprüfung.pdf', 'wb')\n",
    "    pdfWriter.write(pdfOutputFile)\n",
    "    pdfOutputFile.close()\n",
    "    print(\"Die Datei kann runtergeladen werden\")   "
   ]
  },
  {
   "cell_type": "code",
   "execution_count": 6,
   "metadata": {
    "scrolled": true
   },
   "outputs": [
    {
     "name": "stdout",
     "output_type": "stream",
     "text": [
      "['Pipfile', '.git', 'spielen.ipynb', 'a', 'Pipfile.lock', 'binder.md', '.ipynb_checkpoints', 'b', 'testprüfung.pdf', 'requirements.txt', 'bsp_machen_jz.ipynb', 'functions.ipynb']\n",
      "A16_Magnetisches Feld.pdf\n",
      "0\n",
      "0\n",
      "A28_Energie im EM.pdf\n",
      "1\n",
      "1\n",
      "A15_Magnetische Kräfte.pdf\n",
      "2\n",
      "2\n",
      "A19_Globale und Lokale Eigenschaften.pdf\n",
      "3\n",
      "3\n",
      "A26_27_EM-Feld EM-Wellen.pdf\n",
      "4\n",
      "4\n",
      "A17_Elementare Methoden der Berechnung.pdf\n",
      "5\n",
      "5\n",
      "A22_Sinusschwingungen.pdf\n",
      "6\n",
      "6\n",
      "A25_Mehrphasensystheme.pdf\n",
      "7\n",
      "7\n",
      "A23_24_Komplexe Wechselstromrechnung_Resonanzerscheinungen.pdf\n",
      "8\n",
      "8\n",
      "A20_Induktionserscheinungen.pdf\n",
      "9\n",
      "9\n",
      "A18_Magnetische Kreise_Angabe.pdf\n",
      "10\n",
      "10\n",
      "A21_Schaltungen mit Spulen und Trafos.pdf\n",
      "11\n",
      "11\n",
      "Die Datei kann runtergeladen werden\n"
     ]
    },
    {
     "data": {
      "text/plain": [
       "'/home/user/Documents/projects/et2'"
      ]
     },
     "execution_count": 6,
     "metadata": {},
     "output_type": "execute_result"
    }
   ],
   "source": [
    "p()\n",
    "home"
   ]
  },
  {
   "cell_type": "code",
   "execution_count": 7,
   "metadata": {},
   "outputs": [
    {
     "data": {
      "text/html": [
       "\n",
       "        <iframe\n",
       "            width=\"1000\"\n",
       "            height=\"600\"\n",
       "            src=\"testprüfung.pdf\"\n",
       "            frameborder=\"0\"\n",
       "            allowfullscreen\n",
       "        ></iframe>\n",
       "        "
      ],
      "text/plain": [
       "<IPython.lib.display.IFrame at 0x7f811a6c3198>"
      ]
     },
     "execution_count": 7,
     "metadata": {},
     "output_type": "execute_result"
    }
   ],
   "source": [
    "IFrame(\"testprüfung.pdf\", width=1000, height=600)"
   ]
  }
 ],
 "metadata": {
  "kernelspec": {
   "display_name": "Python 3",
   "language": "python",
   "name": "python3"
  },
  "language_info": {
   "codemirror_mode": {
    "name": "ipython",
    "version": 3
   },
   "file_extension": ".py",
   "mimetype": "text/x-python",
   "name": "python",
   "nbconvert_exporter": "python",
   "pygments_lexer": "ipython3",
   "version": "3.6.8"
  }
 },
 "nbformat": 4,
 "nbformat_minor": 2
}
